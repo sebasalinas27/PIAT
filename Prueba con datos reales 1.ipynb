{
 "cells": [
  {
   "cell_type": "code",
   "execution_count": 4,
   "id": "1b6f7a8e-cdcb-4566-9753-a767a1a80142",
   "metadata": {},
   "outputs": [
    {
     "name": "stdout",
     "output_type": "stream",
     "text": [
      "✅ Optimización completada. Resultados guardados en 'asignacion_resultados_completo.xlsx'.\n"
     ]
    }
   ],
   "source": [
    "# 🔹 Codigo final postulado\n",
    "\n",
    "import numpy as np\n",
    "import pandas as pd\n",
    "from scipy.optimize import linprog\n",
    "\n",
    "# 💕 Rutas de archivos de entrada y salida\n",
    "entrada_path = \"Template_Pruebas_PIAT.xlsx\"\n",
    "salida_path = \"asignacion_resultados_completo.xlsx\"\n",
    "\n",
    "# 🔹 1. Cargar datos\n",
    "df_stock = pd.read_excel(entrada_path, sheet_name='Stock Disponible')\n",
    "df_prioridad = pd.read_excel(entrada_path, sheet_name='Prioridad Clientes', index_col=0)\n",
    "df_minimos = pd.read_excel(entrada_path, sheet_name='Mínimos de Asignación', index_col=[0, 1])\n",
    "\n",
    "# 🔹 2. Filtrar datos innecesarios\n",
    "# Filtrar productos con stock disponible\n",
    "df_stock_filtrado = df_stock[df_stock['Stock Disponible'] > 0].set_index('Codigo')\n",
    "\n",
    "# Filtrar códigos comunes entre 'Stock Disponible' y 'Mínimos de Asignación'\n",
    "codigos_comunes = set(df_stock_filtrado.index).intersection(df_minimos.index.get_level_values(0))\n",
    "if not codigos_comunes:\n",
    "    raise ValueError(\"❌ No se encontraron códigos comunes entre 'Stock Disponible' y 'Mínimos de Asignación'. Verifica los datos.\")\n",
    "\n",
    "codigos_comunes_lista = list(codigos_comunes)\n",
    "\n",
    "# Aplicar filtros a los DataFrames\n",
    "df_stock_filtrado = df_stock_filtrado.loc[codigos_comunes_lista].sort_index()\n",
    "df_minimos_filtrado = df_minimos.loc[codigos_comunes_lista].sort_index()\n",
    "\n",
    "# Preparar datos para el modelo\n",
    "prioridad_clientes = pd.to_numeric(df_prioridad.iloc[:, 0], errors='coerce').fillna(0)\n",
    "\n",
    "# Ordenar clientes por prioridad de menor a mayor\n",
    "clientes_ordenados = prioridad_clientes.sort_values().index.tolist()\n",
    "\n",
    "# Inicializar DataFrame para la asignación\n",
    "df_asignacion = pd.DataFrame(0, index=df_minimos_filtrado.index.get_level_values(0).unique(), columns=clientes_ordenados)\n",
    "\n",
    "# 🔹 3. Asignación por prioridad\n",
    "df_stock_filtrado['Stock Restante'] = df_stock_filtrado['Stock Disponible']\n",
    "\n",
    "for cliente in clientes_ordenados:\n",
    "    for codigo in df_stock_filtrado.index:\n",
    "        minimo_requerido = df_minimos_filtrado.loc[(codigo, cliente), 'Minimo'] if (codigo, cliente) in df_minimos_filtrado.index else 0\n",
    "        stock_disponible = df_stock_filtrado.at[codigo, 'Stock Restante']\n",
    "\n",
    "        if minimo_requerido > 0:\n",
    "            if stock_disponible >= minimo_requerido:\n",
    "                df_asignacion.at[codigo, cliente] = minimo_requerido\n",
    "                df_stock_filtrado.at[codigo, 'Stock Restante'] -= minimo_requerido\n",
    "            else:\n",
    "                df_asignacion.at[codigo, cliente] = stock_disponible\n",
    "                df_stock_filtrado.at[codigo, 'Stock Restante'] = 0\n",
    "\n",
    "# Guardar en Excel\n",
    "with pd.ExcelWriter(salida_path) as writer:\n",
    "    df_asignacion.to_excel(writer, sheet_name=\"Asignación Óptima\")\n",
    "    df_stock_filtrado.to_excel(writer, sheet_name=\"Stock Disponible\")\n",
    "    df_prioridad.to_excel(writer, sheet_name=\"Prioridad Clientes\")\n",
    "    df_minimos_filtrado.to_excel(writer, sheet_name=\"Mínimos de Asignación\")\n",
    "\n",
    "print(f\"✅ Optimización completada. Resultados guardados en '{salida_path}'.\")\n"
   ]
  },
  {
   "cell_type": "code",
   "execution_count": null,
   "id": "7602b6cd-0c20-450b-805e-e6a1e74c816b",
   "metadata": {},
   "outputs": [],
   "source": []
  }
 ],
 "metadata": {
  "kernelspec": {
   "display_name": "Python 3 (ipykernel)",
   "language": "python",
   "name": "python3"
  },
  "language_info": {
   "codemirror_mode": {
    "name": "ipython",
    "version": 3
   },
   "file_extension": ".py",
   "mimetype": "text/x-python",
   "name": "python",
   "nbconvert_exporter": "python",
   "pygments_lexer": "ipython3",
   "version": "3.13.2"
  }
 },
 "nbformat": 4,
 "nbformat_minor": 5
}
